{
  "nbformat": 4,
  "nbformat_minor": 0,
  "metadata": {
    "colab": {
      "provenance": [],
      "authorship_tag": "ABX9TyONvKyY4h5QrVfhep9CB2Fj",
      "include_colab_link": true
    },
    "kernelspec": {
      "name": "python3",
      "display_name": "Python 3"
    },
    "language_info": {
      "name": "python"
    }
  },
  "cells": [
    {
      "cell_type": "markdown",
      "metadata": {
        "id": "view-in-github",
        "colab_type": "text"
      },
      "source": [
        "<a href=\"https://colab.research.google.com/github/BakMarino/Dados/blob/main/DataScienceConectorChave.ipynb\" target=\"_parent\"><img src=\"https://colab.research.google.com/assets/colab-badge.svg\" alt=\"Open In Colab\"/></a>"
      ]
    },
    {
      "cell_type": "code",
      "execution_count": 1,
      "metadata": {
        "id": "ByG1UtZAZdBQ"
      },
      "outputs": [],
      "source": [
        "#Lista de amigos\n",
        "users = [\n",
        "    { 'id': 0, 'name': 'Hero' },\n",
        "    { 'id': 1, 'name': 'Dunn' },\n",
        "    { 'id': 2, 'name': 'Sue' },\n",
        "    { 'id': 3, 'name': 'Chi' },\n",
        "    { 'id': 4, 'name': 'Thor' },\n",
        "    { 'id': 5, 'name': 'Clive' },\n",
        "    { 'id': 6, 'name': 'Hicks' },\n",
        "    { 'id': 7, 'name': 'Devin' },\n",
        "    { 'id': 8, 'name': 'Kate' },\n",
        "    { 'id': 9, 'name': 'Klein' }\n",
        "]"
      ]
    },
    {
      "cell_type": "code",
      "source": [
        "#relação das amizades 'quem é amigo de quem'\n",
        "friendships = [(0,1), (0,2), (1,2), (1,3), (2,3), (3,4),\n",
        "               (4,5), (5,6), (5,7), (6,8), (7,8), (8,9)]"
      ],
      "metadata": {
        "id": "LMmUrnirZ8gA"
      },
      "execution_count": 2,
      "outputs": []
    },
    {
      "cell_type": "code",
      "source": [
        "for user in users:\n",
        "  user['friends'] = []\n",
        "\n",
        "for i, j in friendships:\n",
        "  # nesse caso i é a posição na matriz que pode ser no caso de 0 a 9\n",
        "  users[i]['friends'].append(users[j]) # adiciona i como amigo de j\n",
        "  users[j]['friends'].append(users[i]) # adiciona j como amigo de i"
      ],
      "metadata": {
        "id": "_UIidaqla85w"
      },
      "execution_count": 6,
      "outputs": []
    },
    {
      "cell_type": "code",
      "source": [
        "def number_of_friends(user):\n",
        "  \"\"\"quantos amigos o usuario tem?\"\"\"\n",
        "  return len(user['friends']) # tamanho da lista de friends_id\n",
        "total_connections = sum(number_of_friends(user) # o tamanho das lista do \"quem é amigo de quem\" logo 24 conexões\n",
        "                            for user in users)"
      ],
      "metadata": {
        "id": "SK_FXmafcBSA"
      },
      "execution_count": 34,
      "outputs": []
    },
    {
      "cell_type": "code",
      "source": [
        "from __future__ import division\n",
        "num_users = len(users)\n",
        "avg_connections = total_connections / num_users"
      ],
      "metadata": {
        "id": "MUvrTy0wdLlP"
      },
      "execution_count": 35,
      "outputs": []
    },
    {
      "cell_type": "code",
      "source": [],
      "metadata": {
        "id": "YDTclSGTgZdI"
      },
      "execution_count": null,
      "outputs": []
    }
  ]
}